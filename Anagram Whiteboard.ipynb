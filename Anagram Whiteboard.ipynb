{
 "cells": [
  {
   "cell_type": "code",
   "execution_count": 1,
   "id": "bd5c760c",
   "metadata": {},
   "outputs": [
    {
     "data": {
      "text/plain": [
       "True"
      ]
     },
     "execution_count": 1,
     "metadata": {},
     "output_type": "execute_result"
    }
   ],
   "source": [
    "word1 = 'listen'\n",
    "word2 = 'silent'\n",
    "\n",
    "def anagram(word1, word2):\n",
    "    if sorted (word1) == sorted (word2):\n",
    "        return True\n",
    "    return False\n",
    "\n",
    "anagram(word1,word2)\n"
   ]
  },
  {
   "cell_type": "code",
   "execution_count": 2,
   "id": "824f3a0c",
   "metadata": {},
   "outputs": [],
   "source": [
    "class Cart():\n",
    "    def __init__ (self):\n",
    "        self.my_cart=[]\n",
    "        self.total = 0\n",
    "        \n",
    "    def add_to_cart(self,item):\n",
    "        self.my_cart.append(item)\n",
    "        \n",
    "    def remove_from_cart (self,item_to_remove):\n",
    "        if not item_to_remove in self.my_cart:\n",
    "            print(f'{item_to_remove} is. not in your cart')\n",
    "        else:\n",
    "            self.my_cart.remove(item_to_remove)\n",
    "            \n",
    "    def display_cart (self):\n",
    "        for item in self.my_cart:\n",
    "            print(item)\n",
    "            \n",
    "def run():\n",
    "    shopping_cart = Cart()\n",
    "    while True:\n",
    "        ask = input('What would you lke to do? ADD/REMOVE/QUIT').strip().lower()\n",
    "        if ask == 'quit':\n",
    "            break\n",
    "        elif ask == 'add':\n",
    "            item_to_add = input(\"What would you like to add?\")\n",
    "            shopping_carrt.add_to_cart(item_to_add)\n",
    "            print(shopping_cart.my_cart)\n",
    "        elif ask == 'remove':\n",
    "            item_to_remove = input('What would you. like to remove?')\n",
    "            shopping_cart.remove_from_cart(item_to_remove)\n",
    "            print(shopping_cart.my_cart)\n",
    "        elif ask == 'show':\n",
    "            shopping_cart.display_cart()\n",
    "        else:\n",
    "            print('Invalid Response')"
   ]
  },
  {
   "cell_type": "code",
   "execution_count": null,
   "id": "f7bb621e",
   "metadata": {},
   "outputs": [],
   "source": [
    "()"
   ]
  }
 ],
 "metadata": {
  "kernelspec": {
   "display_name": "Python 3 (ipykernel)",
   "language": "python",
   "name": "python3"
  },
  "language_info": {
   "codemirror_mode": {
    "name": "ipython",
    "version": 3
   },
   "file_extension": ".py",
   "mimetype": "text/x-python",
   "name": "python",
   "nbconvert_exporter": "python",
   "pygments_lexer": "ipython3",
   "version": "3.9.7"
  }
 },
 "nbformat": 4,
 "nbformat_minor": 5
}
