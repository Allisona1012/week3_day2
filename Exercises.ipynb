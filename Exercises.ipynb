{
 "cells": [
  {
   "cell_type": "markdown",
   "metadata": {},
   "source": [
    "#### Exercise 1 - Class Inheritance"
   ]
  },
  {
   "cell_type": "markdown",
   "metadata": {},
   "source": [
    "Create an Employee class that sets an employee's first name, last name, job title, salary, and email. The Employee class should have a class attribute for the raise amount set to 5% (1.05). Create a method that will apply the raise to an employee's salary."
   ]
  },
  {
   "cell_type": "code",
   "execution_count": 54,
   "metadata": {},
   "outputs": [],
   "source": [
    "class Employee:\n",
    "    raise_amount = 1.05\n",
    "        \n",
    "    def __init__(self, first_name,last_name,job_title,salary):\n",
    "        self.first_name = first_name\n",
    "        self.last_name = last_name\n",
    "        self.job_title = job_title\n",
    "        self.salary = salary\n",
    "        self.email = first_name + '.'+ last_name + '@bestcompany.org'\n",
    "    def full_name (self):\n",
    "        print(f'{self.first_name} {self.last_name}')\n",
    "        \n",
    "    def apply_raise (self):\n",
    "        self.salary = int(self.salary *self.raise_amount)"
   ]
  },
  {
   "cell_type": "markdown",
   "metadata": {},
   "source": [
    "Create two more classes that inherit from the Employee class. One for Sales and one for Development. Both of these classes will have the same attributes as the Employee.<br>\n",
    "- For the Sales employees, add a phone number attribute on instantiation using the super method. \n",
    "- Create a method on the Sales class that will Send a Follow Up Email. It should take in a customer name and \"send\" aka print a formatted email \"Dear *customer*, Thank you for your interest in our product. Please let me know if you have any questions. My email is *email* or my phone number is *phone number*. Thanks, *full name*\"\n",
    "- Create a method on the Development class called code that will print out \"*full name* is writing code\"."
   ]
  },
  {
   "cell_type": "code",
   "execution_count": 101,
   "metadata": {},
   "outputs": [],
   "source": [
    "class Sales(Employee):\n",
    "   \n",
    "    def __init__ (self, first_name, last_name,salary):\n",
    "        super().__init__(first_name, last_name,'sales',salary)\n",
    "        self.phone_num = '(123)123-1234'\n",
    "        \n",
    "        \n",
    "    def send_email(self,customer,employee):\n",
    "        #customer= input('Please input custome name: ')\n",
    "        print(f'Dear {customer.title()} ,\\n\\tThank you for your interest in our product! Please let me know if you happen to have any questions. My e-mail is {self.email} or call me at {self.phone_num}. \\nThank you, {self.full_name()}.' )\n",
    "        \n",
    "        \n",
    "class Development (Employee):\n",
    "    def __init__ (self, first_name, last_name,salary):\n",
    "        super().__init__(first_name, last_name, 'Development',salary)\n",
    "        \n",
    "        \n",
    "    def write_code(self,empolyee):\n",
    "        print (f'{self.full_name()} is writing a code.')\n",
    "    "
   ]
  },
  {
   "cell_type": "markdown",
   "metadata": {},
   "source": [
    "- Create an instance of a Sales Employee with a salary of $50,000.\n",
    "- Send follow up emails to \"Mike O'Neil\" and \"Hannah Stern\"\n",
    "- Give the employee a raise and print the salary"
   ]
  },
  {
   "cell_type": "code",
   "execution_count": 71,
   "metadata": {},
   "outputs": [
    {
     "name": "stdout",
     "output_type": "stream",
     "text": [
      "Mary Poppins\n",
      "Dear Hanna Stern ,\n",
      "\tThank you for your interest in our product! Please let me know if you happen to have any questions. My e-mail is Mary.Poppins@bestcompany.org or call me at (123)123-1234. \n",
      "Thank you, None.\n",
      "Mary Poppins\n",
      "Dear Mike O'Neil ,\n",
      "\tThank you for your interest in our product! Please let me know if you happen to have any questions. My e-mail is Mary.Poppins@bestcompany.org or call me at (123)123-1234. \n",
      "Thank you, None.\n",
      "52500\n"
     ]
    }
   ],
   "source": [
    "emp_1 =Sales('Mary','Poppins', 50000)\n",
    "\n",
    "emp_1.send_email('Hanna Stern', emp_1)\n",
    "emp_1.send_email(\"Mike O'Neil\",emp_1)\n",
    "emp_1.apply_raise()\n",
    "print (emp_1.salary)"
   ]
  },
  {
   "cell_type": "code",
   "execution_count": null,
   "metadata": {},
   "outputs": [],
   "source": []
  },
  {
   "cell_type": "code",
   "execution_count": null,
   "metadata": {},
   "outputs": [],
   "source": []
  },
  {
   "cell_type": "code",
   "execution_count": null,
   "metadata": {},
   "outputs": [],
   "source": []
  },
  {
   "cell_type": "markdown",
   "metadata": {},
   "source": [
    "- Create an instance of a Development Employee with a salary of $100,000\n",
    "- Write some code with this employee\n",
    "- Give the employee a raise and print the salary"
   ]
  },
  {
   "cell_type": "code",
   "execution_count": 102,
   "metadata": {},
   "outputs": [
    {
     "name": "stdout",
     "output_type": "stream",
     "text": [
      "Patrick Starr\n",
      "None is writing a code.\n",
      "105000\n"
     ]
    }
   ],
   "source": [
    "emp_2 =Development('Patrick','Starr', 100000)\n",
    "\n",
    "emp_2.write_code(emp_2)\n",
    "\n",
    "emp_2.apply_raise()\n",
    "print (emp_2.salary)"
   ]
  },
  {
   "cell_type": "markdown",
   "metadata": {},
   "source": [
    "#### Exercise 2 - Importing Modules"
   ]
  },
  {
   "cell_type": "markdown",
   "metadata": {},
   "source": [
    "In VS Code, create a module titled `geometry` and add two functions in there. One that will calculate the area of a circle given a radius. The second will find the hypotenuse of a right angle given the two sides. Import the module or the functions from the module and use it to find the answers to the below questions"
   ]
  },
  {
   "cell_type": "markdown",
   "metadata": {},
   "source": [
    "What is the area of a circle with a radius of 7cm?"
   ]
  },
  {
   "cell_type": "code",
   "execution_count": 126,
   "metadata": {},
   "outputs": [],
   "source": [
    "import geometry_2\n",
    "\n"
   ]
  },
  {
   "cell_type": "code",
   "execution_count": 122,
   "metadata": {},
   "outputs": [
    {
     "name": "stdout",
     "output_type": "stream",
     "text": [
      "Help on module geometry:\n",
      "\n",
      "NAME\n",
      "    geometry\n",
      "\n",
      "FUNCTIONS\n",
      "    area_cirle()\n",
      "\n",
      "DATA\n",
      "    pi = 3.141592653589793\n",
      "\n",
      "FILE\n",
      "    /Users/Allison/Documents/CodingTemple/Week3/Day2/geometry.py\n",
      "\n",
      "\n"
     ]
    }
   ],
   "source": [
    "help (geometry)"
   ]
  },
  {
   "cell_type": "code",
   "execution_count": 128,
   "metadata": {},
   "outputs": [
    {
     "name": "stdout",
     "output_type": "stream",
     "text": [
      "153.93804002589985\n"
     ]
    }
   ],
   "source": [
    "geometry_2.area_circle(7)"
   ]
  },
  {
   "cell_type": "markdown",
   "metadata": {},
   "source": [
    "What is the hypotenuse of a right angle with sides of 3in and 4in?"
   ]
  },
  {
   "cell_type": "code",
   "execution_count": 133,
   "metadata": {},
   "outputs": [],
   "source": [
    "import geometry_3"
   ]
  },
  {
   "cell_type": "code",
   "execution_count": 134,
   "metadata": {},
   "outputs": [
    {
     "name": "stdout",
     "output_type": "stream",
     "text": [
      "Help on module geometry_3:\n",
      "\n",
      "NAME\n",
      "    geometry_3\n",
      "\n",
      "FUNCTIONS\n",
      "    hypotenuse(side_1, side_2)\n",
      "\n",
      "FILE\n",
      "    /Users/Allison/Documents/CodingTemple/Week3/Day2/geometry_3.py\n",
      "\n",
      "\n"
     ]
    }
   ],
   "source": [
    "help(geometry_3)"
   ]
  },
  {
   "cell_type": "code",
   "execution_count": 135,
   "metadata": {},
   "outputs": [
    {
     "name": "stdout",
     "output_type": "stream",
     "text": [
      "5.0\n"
     ]
    }
   ],
   "source": [
    "geometry_3.hypotenuse(3,4)"
   ]
  }
 ],
 "metadata": {
  "kernelspec": {
   "display_name": "Python 3 (ipykernel)",
   "language": "python",
   "name": "python3"
  },
  "language_info": {
   "codemirror_mode": {
    "name": "ipython",
    "version": 3
   },
   "file_extension": ".py",
   "mimetype": "text/x-python",
   "name": "python",
   "nbconvert_exporter": "python",
   "pygments_lexer": "ipython3",
   "version": "3.9.7"
  }
 },
 "nbformat": 4,
 "nbformat_minor": 4
}
